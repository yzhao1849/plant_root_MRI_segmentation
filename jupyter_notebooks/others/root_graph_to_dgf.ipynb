{
 "cells": [
  {
   "cell_type": "code",
   "execution_count": 1,
   "metadata": {},
   "outputs": [],
   "source": [
    "import numpy as np\n",
    "import sys\n",
    "import math\n",
    "sys.path.append('/home/user/zhaoy/git/oguz_plantRoot_repo/plant-root-MRI-display/root_extraction/RootStructureExtractor/PyUtils')"
   ]
  },
  {
   "cell_type": "code",
   "execution_count": 2,
   "metadata": {},
   "outputs": [],
   "source": [
    "import root_graph"
   ]
  },
  {
   "cell_type": "code",
   "execution_count": 3,
   "metadata": {},
   "outputs": [],
   "source": [
    "# rg = root_graph.RootGraph('/home/user/zhaoy/root_mri/experiments/Roots/lupineSmall_real_step719/root.xml')\n",
    "rg = root_graph.RootGraph('/home/user/zhaoy/root_mri/experiments/root_extraction_results/rootWeight10/visualized_out_lupine_small_xml_mri/root.xml')\n"
   ]
  },
  {
   "cell_type": "code",
   "execution_count": 6,
   "metadata": {},
   "outputs": [],
   "source": [
    "# rg.toXml('/home/user/zhaoy/root_mri/experiments/ls.xml')"
   ]
  },
  {
   "cell_type": "code",
   "execution_count": 4,
   "metadata": {
    "scrolled": true
   },
   "outputs": [
    {
     "name": "stdout",
     "output_type": "stream",
     "text": [
      "0: 1.0,[300.0, 235.0, 220.0] \n",
      "  0: 9.0,[303.0, 222.0, 208.0] \n",
      "  0: 9.0,[305.0, 222.0, 206.0] \n",
      "  0: 9.0,[306.0, 211.0, 180.0] \n",
      "  0: 8.0,[305.0, 205.0, 169.0] \n",
      "  0: 8.0,[299.0, 204.0, 168.0] \n",
      "  0: 8.0,[300.0, 204.0, 161.0] \n",
      "  0: 9.0,[293.0, 206.0, 156.0] \n",
      "  0: 8.0,[288.0, 208.0, 151.0] \n",
      "  0: 10.0,[285.0, 203.0, 147.0] \n",
      "  0: 6.0,[286.0, 211.0, 146.0] \n",
      "  0: 9.0,[283.0, 214.0, 140.0] \n",
      "  0: 9.0,[278.0, 215.0, 139.0] \n",
      "  0: 10.0,[275.0, 208.0, 133.0] \n",
      "  0: 9.0,[264.0, 213.0, 132.0] \n",
      "  0: 8.0,[255.0, 208.0, 129.0] \n",
      "  0: 9.0,[250.0, 212.0, 129.0] \n",
      "  0: 8.0,[244.0, 215.0, 120.0] \n",
      "  0: 8.0,[233.0, 216.0, 116.0] \n",
      "  0: 8.0,[233.0, 210.0, 109.0] \n",
      "  0: 8.0,[231.0, 212.0, 103.0] \n",
      "  0: 8.0,[233.0, 200.0, 96.0] \n",
      "  0: 11.0,[234.0, 199.0, 91.0] \n",
      "  0: 6.0,[218.0, 207.0, 91.0] \n",
      "  0: 9.0,[204.0, 205.0, 87.0] \n",
      "  0: 9.0,[204.0, 203.0, 81.0] \n",
      "  0: 10.0,[203.0, 209.0, 80.0] \n",
      "  0: 5.0,[198.0, 207.0, 77.0] \n",
      "  0: 8.0,[287.0, 197.0, 155.0] \n",
      "  0: 8.0,[293.0, 181.0, 153.0] \n",
      "  0: 10.0,[293.0, 161.0, 152.0] \n",
      "  0: 10.0,[298.0, 155.0, 151.0] \n",
      "  0: 7.0,[298.0, 137.0, 150.0] \n",
      "  0: 7.0,[287.0, 122.0, 145.0] \n",
      "  0: 7.0,[316.0, 214.0, 178.0] \n",
      "  0: 7.0,[316.0, 222.0, 165.0] \n",
      "  0: 7.0,[313.0, 239.0, 163.0] \n",
      "  0: 9.0,[308.0, 241.0, 163.0] \n",
      "  0: 9.0,[308.0, 245.0, 159.0] \n",
      "  0: 12.0,[309.0, 255.0, 153.0] \n",
      "  0: 11.0,[317.0, 259.0, 153.0] \n",
      "  0: 10.0,[317.0, 266.0, 153.0] \n",
      "  0: 10.0,[337.0, 287.0, 151.0] \n",
      "  0: 10.0,[356.0, 297.0, 150.0] \n",
      "  0: 10.0,[363.0, 316.0, 147.0] \n",
      "  0: 10.0,[379.0, 333.0, 147.0] \n",
      "  0: 8.0,[388.0, 383.0, 147.0] \n",
      "  0: 9.0,[372.0, 403.0, 143.0] \n",
      "  0: 10.0,[304.0, 253.0, 150.0] \n",
      "  0: 9.0,[299.0, 240.0, 146.0] \n",
      "  0: 10.0,[309.0, 260.0, 142.0] \n",
      "  0: 10.0,[331.0, 264.0, 140.0] \n",
      "  0: 8.0,[329.0, 266.0, 138.0] \n",
      "  0: 10.0,[338.0, 295.0, 159.0] \n",
      "  0: 10.0,[353.0, 344.0, 159.0] \n",
      "  0: 10.0,[354.0, 365.0, 158.0] \n",
      "  0: 8.0,[311.0, 228.0, 205.0] \n",
      "  0: 8.0,[313.0, 228.0, 191.0] \n",
      "  0: 8.0,[317.0, 230.0, 188.0] \n",
      "  0: 8.0,[317.0, 250.0, 185.0] \n",
      "  0: 9.0,[315.0, 248.0, 173.0] \n",
      "  0: 10.0,[327.0, 269.0, 169.0] \n",
      "  0: 9.0,[375.0, 310.0, 164.0] \n",
      "  0: 10.0,[418.0, 316.0, 157.0] \n",
      "  0: 11.0,[422.0, 322.0, 155.0] \n",
      "  0: 5.0,[430.0, 318.0, 155.0] \n",
      "  0: 9.0,[292.0, 219.0, 208.0] \n",
      "  0: 8.0,[283.0, 219.0, 202.0] \n",
      "  0: 9.0,[282.0, 220.0, 189.0] \n",
      "  0: 8.0,[285.0, 236.0, 176.0] \n",
      "  0: 9.0,[281.0, 240.0, 150.0] \n",
      "  0: 8.0,[270.0, 232.0, 146.0] \n",
      "  0: 9.0,[270.0, 236.0, 144.0] \n",
      "  0: 9.0,[264.0, 236.0, 141.0] \n",
      "  0: 10.0,[264.0, 246.0, 133.0] \n",
      "  0: 10.0,[257.0, 251.0, 130.0] \n",
      "  0: 9.0,[252.0, 244.0, 125.0] \n",
      "  0: 9.0,[243.0, 247.0, 125.0] \n",
      "  0: 11.0,[233.0, 299.0, 119.0] \n",
      "  0: 5.0,[244.0, 327.0, 113.0] \n",
      "  0: 9.0,[291.0, 216.0, 188.0] \n",
      "  0: 9.0,[291.0, 208.0, 174.0] \n",
      "  0: 10.0,[285.0, 187.0, 169.0] \n",
      "  0: 10.0,[289.0, 134.0, 167.0] \n",
      "  0: 8.0,[284.0, 107.0, 163.0] \n",
      "\n"
     ]
    }
   ],
   "source": [
    "print(rg.root)"
   ]
  },
  {
   "cell_type": "code",
   "execution_count": 5,
   "metadata": {},
   "outputs": [],
   "source": [
    "def dfs_tree(root, node_idx, node_list, seg_list):  # node_idx is the index of root \n",
    "    child_list = root.children\n",
    "    for child in child_list:\n",
    "        # get the coordinates\n",
    "        x, y, z = child.coor\n",
    "        child_rad = child.rad\n",
    "        child_idx = node_list[-1][0]+1\n",
    "        node_list.append([child_idx, x, y, z])\n",
    "        # child.branch_id = 0  # only used when there's no branch id for child nodes\n",
    "        # print(dir(child))  # print the attributes\n",
    "        branch_id = child.branch_id\n",
    "        seg_list.append([node_idx, child_idx, branch_id, child_rad])  # node1ID, node2ID, order, brnID, surf [cm2], length [cm], radius [cm], kz [cm4 hPa-1 d-1], kr [cm hPa-1 d-1], emergence time [d], subtype, organtype\n",
    "        \n",
    "        if len(child.children)!=0:  # if not leaf node, recursively call this function\n",
    "            dfs_tree(child, child_idx, node_list, seg_list)  # branch id needs to be updated\n",
    "            \n",
    "    return node_list, seg_list\n",
    "\n",
    "def generate_node_seg_lists(root):\n",
    "    node_idx = 0\n",
    "    # root.branch_id = 0\n",
    "    x, y, z = root.coor\n",
    "    # rad = root.rad\n",
    "    node_list = [[node_idx, x, y, z]]\n",
    "    seg_list = []  # node1ID, node2ID, brnID, radius [cm]\n",
    "    \n",
    "    # apply depth first search on the tree structure of the root graph\n",
    "    node_list, seg_list = dfs_tree(root, node_idx, node_list, seg_list)\n",
    "\n",
    "    return node_list, seg_list\n",
    "\n",
    "\n",
    "# def write_dgf(node_list, seg_list, out_path):\n",
    "#     with open(out_path, 'w') as f:\n",
    "#         f.write('DGF\\nVertex\\nparameters 0\\n')\n",
    "#         for l in node_list:\n",
    "#             f.write('{} {} {}\\n'.format(l[1], l[2], l[3]))\n",
    "#         f.write('#\\nSimplex\\nparameters 10: node1ID, node2ID, order, brnID, surf [cm2], length [cm], radius [cm], kz [cm4 hPa-1 d-1], kr [cm hPa-1 d-1], emergence time [d], subtype, organtype\\n')\n",
    "#         for l in seg_list:\n",
    "#             f.write('{} {} {} {} {} {} {} {} {} {} {} {}\\n'.format(*l))\n",
    "#         f.write('#\\nBOUNDARYSEGMENTS\\n-1 -1\\n-1 {}\\n#\\nBOUNDARYDOMAIN\\ndefault 1\\n#\\n'.format(len(node_list)-1))\n",
    "    \n",
    "def write_dgf(filename, nodes, seg, params = np.zeros((0, 0))):\n",
    "    file = open(filename, \"w\")  # write file\n",
    "\n",
    "    nop = params.shape[0]  # number of parameters\n",
    "    file.write(\"DGF\\n\")\n",
    "    file.write('Vertex\\n')\n",
    "    file.write('parameters 0\\n')\n",
    "\n",
    "\n",
    "    for i in range(0, len(nodes)):\n",
    "        file.write('{:g} {:g} {:g} \\n'.format(nodes[i, 0], nodes[i, 1], nodes[i, 2]))\n",
    "\n",
    "    file.write('#\\n');\n",
    "    file.write('Simplex\\n');\n",
    "    if nop > 0:\n",
    "        file.write('parameters {:d}'.format(nop))\n",
    "        file.write(': node1ID, node2ID, order, brnID, surf [cm2], length [cm], radius [cm], emergence time [d] \\n');\n",
    "    for i in range(0, seg.shape[1]):\n",
    "        file.write('{:g} {:g}'.format(seg[0,i], seg[1,i]))\n",
    "        for j in range(0, nop):\n",
    "            file.write(' {:g}'.format(params[j,i]))\n",
    "        file.write(' \\n')\n",
    "\n",
    "    # not used...\n",
    "    file.write('#\\nBOUNDARYSEGMENTS\\n2 0\\n')\n",
    "    file.write('3 {:g}\\n'.format((seg.shape[1])))\n",
    "    file.write('#\\nBOUNDARYDOMAIN\\ndefault 1\\n#\\n')\n",
    "    file.close()\n",
    "\n",
    "### use the dfs order to calculate emergence time\n",
    "def set_LenSur(vertex, prev, nodeID, radius):\n",
    "\n",
    "    length = np.zeros(len(prev))\n",
    "    surf = np.zeros(len(prev))\n",
    "    \n",
    "    for i in range (0,len(prev)):\n",
    "        a = vertex[int(prev[i]),:]\n",
    "        b = vertex[int(nodeID[i]),:]\n",
    "        length[i] = np.linalg.norm(a-b)\n",
    "        surf[i] = 2*radius[i]*math.pi*length[i]\n",
    "\n",
    "    return length, surf\n",
    "\n",
    "def set_type(branchID, prev):\n",
    "    \"\"\"\n",
    "    Starting from type 1, the successor of branches with type i will be assigned with type i+1\n",
    "    \"\"\"\n",
    "\n",
    "    maxbran = int(max(branchID))\n",
    "    un_bran = np.unique(branchID)  #unique branches: 0 removed, because the 0 branch only contains the first node\n",
    "    un_bran = np.asarray(un_bran, int)\n",
    "\n",
    "    preseg = np.zeros(maxbran)\n",
    "    prebr = np.zeros(maxbran)\n",
    "    for i in range(1,maxbran+1):\n",
    "        res = next(x for x, val in enumerate(branchID) if val == i) #index of every 1st branch segment\n",
    "        preseg[i-1] = int(prev[res]) #prvious of first br seg\n",
    "    preseg = np.array(preseg,int)\n",
    "    prebr = branchID[preseg]  ### the branch id of the parent branch of each branch\n",
    "    prebr[0] = 0\n",
    "\n",
    " \n",
    "    #find branch types\n",
    "    branch_type = np.zeros(len(prebr))\n",
    "    idx = np.where(prebr == 0)\n",
    "    branch_type[idx[0]] = 1  # the type of main branch is 1\n",
    "\n",
    "    for i in range(1,len(un_bran)):  # the largest possible branch type is the number of unique branches\n",
    "        bridx = np.where(branch_type == i) #index of branches with type i\n",
    "        dumpre = un_bran[bridx[0]]  #num of branches that have type i # To me it's more like the branchID of the first branch of type i\n",
    "        if len(dumpre)==0:\n",
    "            break  # once there's no succeeding branches, stop the iteration\n",
    "        idxpre = np.in1d(prebr, dumpre)  # the child branches whose parent branches are of type i\n",
    "        branch_type[idxpre] = i+1\n",
    "      \n",
    "    #distribute branch types on all segments\n",
    "    Order = np.zeros(len(branchID))\n",
    "    Order[np.where(branchID==0)[0]] = 1  # the first segment of the main branch is of type 1\n",
    "    for i in range(1,maxbran+1):\n",
    "        idx = np.where(un_bran == i)\n",
    "        tt = branch_type[idx[0]]  # get the branch type of this branch id\n",
    "        ix = np.where(branchID==i)\n",
    "        Order[ix[0]] = tt  # Q: only the 1st seg of the branch is changed? --> no, ix[0] is the result array, ix is a tuple\n",
    "        \n",
    "    return Order\n",
    "\n",
    "\n",
    "def set_age(Order, branchID, prev, length, maxage):\n",
    "    '''\n",
    "    Modified algorithm:\n",
    "    Use the orders (types) of branches to calculate the emergence time of each branch \n",
    "      (start time is 0 for the first segment of the main branch, and each branch tip ends at maxage)\n",
    "    The emergence time of the next order branches (the next level of child branches) will be calculated \n",
    "      based on the time tag of the current branches\n",
    "    '''\n",
    "    un_typ = np.unique(Order)\n",
    "    emt = np.zeros(len(Order)) #emergence time \n",
    "\n",
    "    for i in range(1, len(un_typ)+1): \n",
    "        idx = np.where(Order==i)   #find all segments with this order \n",
    "        brtyp = np.unique(branchID[idx[0]]) #find unique branch IDs with this order \n",
    "\n",
    "        for j in range(0, len(brtyp)): #iterate through all branchIDs with this order \n",
    "            idx1_ = np.where(branchID == brtyp[j])\n",
    "            idx1 = np.asarray(idx1_[0],int)\n",
    "            emt[idx1[0]] =  emt[int(prev[idx1[0]])]\n",
    "            emt[idx1[-1]] = maxage   #tip is set to maxage\n",
    "            iniage = emt[idx1[0]]\n",
    "            RL = sum(length[idx1])  # length of this whole branch\n",
    "            agediff = (maxage-iniage);\n",
    "            if (agediff!= 0): \n",
    "                elong = RL/(maxage-iniage)\n",
    "            else:\n",
    "                elong = 0.0001\n",
    "\n",
    "            for k in range(1, len(idx1)-1): \n",
    "                emt[idx1[k]] = emt[idx1[k-1]] + length[idx1[k]]/elong\n",
    "     \n",
    "    return emt\n",
    "\n",
    "def set_max_type(order, maxtyp):\n",
    "    \"\"\"\n",
    "    Set the max order/type: Any order larger than the max order will be converted to the max order\n",
    "    \"\"\"\n",
    "    order[order>maxtyp] = maxtyp\n",
    "    un_typ = np.unique(order)\n",
    "            \n",
    "    return order"
   ]
  },
  {
   "cell_type": "code",
   "execution_count": 7,
   "metadata": {
    "scrolled": true
   },
   "outputs": [
    {
     "name": "stdout",
     "output_type": "stream",
     "text": [
      "Dgf file written in path \"test3.dgf\"\n"
     ]
    }
   ],
   "source": [
    "def graph_to_dgf(root_graph, max_plant_age, max_type, dgf_output_path):\n",
    "    node_list, seg_list = generate_node_seg_lists(root_graph.root)\n",
    "    node_list = np.array(node_list)\n",
    "    seg_list = np.array(seg_list)\n",
    "    \n",
    "    # calculate the length and surface of each segment\n",
    "    vertex = node_list[:,1:]\n",
    "    prev, nodeID, branchID, radius = seg_list[:,0], seg_list[:,1], seg_list[:,2], seg_list[:,3]\n",
    "    length, surf = set_LenSur(vertex, prev, nodeID, radius) \n",
    "    \n",
    "    # calculate the order of each branch segment\n",
    "    order = set_type(branchID, prev)\n",
    "    \n",
    "    # calculate the emergence time\n",
    "    emt = set_age(order, branchID, prev,length, max_plant_age)  # maximum age of this palnt = 13, shall be given by the user\n",
    "    \n",
    "    # set the max type   \n",
    "    order = set_max_type(order, max_type)\n",
    "    \n",
    "    # combine segments and parameters\n",
    "    seg = (np.stack((prev, nodeID)))\n",
    "    params = (np.stack((order, branchID, surf, length, radius, emt)))\n",
    "    \n",
    "    # write the dgf file:\n",
    "    write_dgf(dgf_output_path, vertex, seg, params)\n",
    "    \n",
    "    print('Dgf file written in path \"{}\"'.format(dgf_output_path))\n",
    "    \n",
    "    return\n",
    "graph_to_dgf(rg, 13, 2, 'test3.dgf')\n"
   ]
  },
  {
   "cell_type": "code",
   "execution_count": 103,
   "metadata": {
    "scrolled": true
   },
   "outputs": [
    {
     "name": "stdout",
     "output_type": "stream",
     "text": [
      "*******\n",
      "*******\n",
      "number of children nodes: 2\n",
      "*******\n",
      "number of children nodes: 2\n",
      "*******\n",
      "number of children nodes: 2\n",
      "*******\n",
      "*******\n",
      "*******\n",
      "*******\n",
      "number of children nodes: 2\n",
      "*******\n",
      "*******\n",
      "*******\n",
      "*******\n",
      "*******\n",
      "*******\n",
      "*******\n",
      "*******\n",
      "*******\n",
      "*******\n",
      "*******\n",
      "*******\n",
      "*******\n",
      "*******\n",
      "*******\n",
      "*******\n",
      "*******\n",
      "*******\n",
      "*******\n",
      "*******\n",
      "*******\n",
      "*******\n",
      "*******\n",
      "*******\n",
      "*******\n",
      "*******\n",
      "*******\n",
      "*******\n",
      "*******\n",
      "number of children nodes: 2\n",
      "*******\n",
      "number of children nodes: 2\n",
      "*******\n",
      "*******\n",
      "*******\n",
      "*******\n",
      "*******\n",
      "*******\n",
      "*******\n",
      "*******\n",
      "*******\n",
      "*******\n",
      "*******\n",
      "*******\n",
      "*******\n",
      "*******\n",
      "*******\n",
      "*******\n",
      "*******\n",
      "*******\n",
      "*******\n",
      "*******\n",
      "*******\n",
      "*******\n",
      "*******\n",
      "*******\n",
      "*******\n",
      "number of children nodes: 2\n",
      "*******\n",
      "*******\n",
      "*******\n",
      "*******\n",
      "*******\n",
      "*******\n",
      "*******\n",
      "*******\n",
      "*******\n",
      "*******\n",
      "*******\n",
      "*******\n",
      "*******\n",
      "*******\n"
     ]
    }
   ],
   "source": [
    "\n",
    "_, node_idx, node_list, seg_list = initialize(rg.root)\n",
    "node_list, seg_list = dfs_tree(rg.root, node_idx, node_list, seg_list)\n",
    "node_list = np.array(node_list)\n",
    "seg_list = np.array(seg_list)"
   ]
  },
  {
   "cell_type": "code",
   "execution_count": 104,
   "metadata": {
    "scrolled": true
   },
   "outputs": [
    {
     "data": {
      "text/plain": [
       "array([[  0., 300., 235., 220.],\n",
       "       [  1., 303., 222., 208.],\n",
       "       [  2., 305., 222., 206.],\n",
       "       [  3., 306., 211., 180.],\n",
       "       [  4., 305., 205., 169.],\n",
       "       [  5., 299., 204., 168.],\n",
       "       [  6., 300., 204., 161.],\n",
       "       [  7., 293., 206., 156.],\n",
       "       [  8., 288., 208., 151.],\n",
       "       [  9., 285., 203., 147.],\n",
       "       [ 10., 286., 211., 146.],\n",
       "       [ 11., 283., 214., 140.],\n",
       "       [ 12., 278., 215., 139.],\n",
       "       [ 13., 275., 208., 133.],\n",
       "       [ 14., 264., 213., 132.],\n",
       "       [ 15., 255., 208., 129.],\n",
       "       [ 16., 250., 212., 129.],\n",
       "       [ 17., 244., 215., 120.],\n",
       "       [ 18., 233., 216., 116.],\n",
       "       [ 19., 233., 210., 109.],\n",
       "       [ 20., 231., 212., 103.],\n",
       "       [ 21., 233., 200.,  96.],\n",
       "       [ 22., 234., 199.,  91.],\n",
       "       [ 23., 218., 207.,  91.],\n",
       "       [ 24., 204., 205.,  87.],\n",
       "       [ 25., 204., 203.,  81.],\n",
       "       [ 26., 203., 209.,  80.],\n",
       "       [ 27., 198., 207.,  77.],\n",
       "       [ 28., 287., 197., 155.],\n",
       "       [ 29., 293., 181., 153.],\n",
       "       [ 30., 293., 161., 152.],\n",
       "       [ 31., 298., 155., 151.],\n",
       "       [ 32., 298., 137., 150.],\n",
       "       [ 33., 287., 122., 145.],\n",
       "       [ 34., 316., 214., 178.],\n",
       "       [ 35., 316., 222., 165.],\n",
       "       [ 36., 313., 239., 163.],\n",
       "       [ 37., 308., 241., 163.],\n",
       "       [ 38., 308., 245., 159.],\n",
       "       [ 39., 309., 255., 153.],\n",
       "       [ 40., 317., 259., 153.],\n",
       "       [ 41., 317., 266., 153.],\n",
       "       [ 42., 337., 287., 151.],\n",
       "       [ 43., 356., 297., 150.],\n",
       "       [ 44., 363., 316., 147.],\n",
       "       [ 45., 379., 333., 147.],\n",
       "       [ 46., 388., 383., 147.],\n",
       "       [ 47., 372., 403., 143.],\n",
       "       [ 48., 304., 253., 150.],\n",
       "       [ 49., 299., 240., 146.],\n",
       "       [ 50., 309., 260., 142.],\n",
       "       [ 51., 331., 264., 140.],\n",
       "       [ 52., 329., 266., 138.],\n",
       "       [ 53., 338., 295., 159.],\n",
       "       [ 54., 353., 344., 159.],\n",
       "       [ 55., 354., 365., 158.],\n",
       "       [ 56., 311., 228., 205.],\n",
       "       [ 57., 313., 228., 191.],\n",
       "       [ 58., 317., 230., 188.],\n",
       "       [ 59., 317., 250., 185.],\n",
       "       [ 60., 315., 248., 173.],\n",
       "       [ 61., 327., 269., 169.],\n",
       "       [ 62., 375., 310., 164.],\n",
       "       [ 63., 418., 316., 157.],\n",
       "       [ 64., 422., 322., 155.],\n",
       "       [ 65., 430., 318., 155.],\n",
       "       [ 66., 292., 219., 208.],\n",
       "       [ 67., 283., 219., 202.],\n",
       "       [ 68., 282., 220., 189.],\n",
       "       [ 69., 285., 236., 176.],\n",
       "       [ 70., 281., 240., 150.],\n",
       "       [ 71., 270., 232., 146.],\n",
       "       [ 72., 270., 236., 144.],\n",
       "       [ 73., 264., 236., 141.],\n",
       "       [ 74., 264., 246., 133.],\n",
       "       [ 75., 257., 251., 130.],\n",
       "       [ 76., 252., 244., 125.],\n",
       "       [ 77., 243., 247., 125.],\n",
       "       [ 78., 233., 299., 119.],\n",
       "       [ 79., 244., 327., 113.],\n",
       "       [ 80., 291., 216., 188.],\n",
       "       [ 81., 291., 208., 174.],\n",
       "       [ 82., 285., 187., 169.],\n",
       "       [ 83., 289., 134., 167.],\n",
       "       [ 84., 284., 107., 163.]])"
      ]
     },
     "execution_count": 104,
     "metadata": {},
     "output_type": "execute_result"
    }
   ],
   "source": [
    "node_list"
   ]
  },
  {
   "cell_type": "code",
   "execution_count": 86,
   "metadata": {},
   "outputs": [
    {
     "data": {
      "text/plain": [
       "28.24889378365107"
      ]
     },
     "execution_count": 86,
     "metadata": {},
     "output_type": "execute_result"
    }
   ],
   "source": [
    "# a=np.array([305., 222., 206.])\n",
    "# b=np.array([306., 211., 180.])\n",
    "# np.linalg.norm(a-b)"
   ]
  },
  {
   "cell_type": "code",
   "execution_count": 105,
   "metadata": {
    "scrolled": true
   },
   "outputs": [
    {
     "data": {
      "text/plain": [
       "array([[ 0.,  1.,  1.,  9.],\n",
       "       [ 1.,  2.,  1.,  9.],\n",
       "       [ 2.,  3.,  1.,  9.],\n",
       "       [ 3.,  4.,  1.,  8.],\n",
       "       [ 4.,  5.,  1.,  8.],\n",
       "       [ 5.,  6.,  1.,  8.],\n",
       "       [ 6.,  7.,  1.,  9.],\n",
       "       [ 7.,  8.,  1.,  8.],\n",
       "       [ 8.,  9.,  1., 10.],\n",
       "       [ 9., 10.,  1.,  6.],\n",
       "       [10., 11.,  1.,  9.],\n",
       "       [11., 12.,  1.,  9.],\n",
       "       [12., 13.,  1., 10.],\n",
       "       [13., 14.,  1.,  9.],\n",
       "       [14., 15.,  1.,  8.],\n",
       "       [15., 16.,  1.,  9.],\n",
       "       [16., 17.,  1.,  8.],\n",
       "       [17., 18.,  1.,  8.],\n",
       "       [18., 19.,  1.,  8.],\n",
       "       [19., 20.,  1.,  8.],\n",
       "       [20., 21.,  1.,  8.],\n",
       "       [21., 22.,  1., 11.],\n",
       "       [22., 23.,  1.,  6.],\n",
       "       [23., 24.,  1.,  9.],\n",
       "       [24., 25.,  1.,  9.],\n",
       "       [25., 26.,  1., 10.],\n",
       "       [26., 27.,  1.,  5.],\n",
       "       [ 7., 28.,  5.,  8.],\n",
       "       [28., 29.,  5.,  8.],\n",
       "       [29., 30.,  5., 10.],\n",
       "       [30., 31.,  5., 10.],\n",
       "       [31., 32.,  5.,  7.],\n",
       "       [32., 33.,  5.,  7.],\n",
       "       [ 3., 34.,  3.,  7.],\n",
       "       [34., 35.,  3.,  7.],\n",
       "       [35., 36.,  3.,  7.],\n",
       "       [36., 37.,  3.,  9.],\n",
       "       [37., 38.,  3.,  9.],\n",
       "       [38., 39.,  3., 12.],\n",
       "       [39., 40.,  3., 11.],\n",
       "       [40., 41.,  3., 10.],\n",
       "       [41., 42.,  3., 10.],\n",
       "       [42., 43.,  3., 10.],\n",
       "       [43., 44.,  3., 10.],\n",
       "       [44., 45.,  3., 10.],\n",
       "       [45., 46.,  3.,  8.],\n",
       "       [46., 47.,  3.,  9.],\n",
       "       [39., 48.,  4., 10.],\n",
       "       [48., 49.,  4.,  9.],\n",
       "       [49., 50.,  4., 10.],\n",
       "       [50., 51.,  4., 10.],\n",
       "       [51., 52.,  4.,  8.],\n",
       "       [38., 53.,  7., 10.],\n",
       "       [53., 54.,  7., 10.],\n",
       "       [54., 55.,  7., 10.],\n",
       "       [ 2., 56.,  6.,  8.],\n",
       "       [56., 57.,  6.,  8.],\n",
       "       [57., 58.,  6.,  8.],\n",
       "       [58., 59.,  6.,  8.],\n",
       "       [59., 60.,  6.,  9.],\n",
       "       [60., 61.,  6., 10.],\n",
       "       [61., 62.,  6.,  9.],\n",
       "       [62., 63.,  6., 10.],\n",
       "       [63., 64.,  6., 11.],\n",
       "       [64., 65.,  6.,  5.],\n",
       "       [ 1., 66.,  2.,  9.],\n",
       "       [66., 67.,  2.,  8.],\n",
       "       [67., 68.,  2.,  9.],\n",
       "       [68., 69.,  2.,  8.],\n",
       "       [69., 70.,  2.,  9.],\n",
       "       [70., 71.,  2.,  8.],\n",
       "       [71., 72.,  2.,  9.],\n",
       "       [72., 73.,  2.,  9.],\n",
       "       [73., 74.,  2., 10.],\n",
       "       [74., 75.,  2., 10.],\n",
       "       [75., 76.,  2.,  9.],\n",
       "       [76., 77.,  2.,  9.],\n",
       "       [77., 78.,  2., 11.],\n",
       "       [78., 79.,  2.,  5.],\n",
       "       [68., 80.,  8.,  9.],\n",
       "       [80., 81.,  8.,  9.],\n",
       "       [81., 82.,  8., 10.],\n",
       "       [82., 83.,  8., 10.],\n",
       "       [83., 84.,  8.,  8.]])"
      ]
     },
     "execution_count": 105,
     "metadata": {},
     "output_type": "execute_result"
    }
   ],
   "source": [
    "seg_list"
   ]
  },
  {
   "cell_type": "code",
   "execution_count": 53,
   "metadata": {},
   "outputs": [],
   "source": [
    "# write_dgf(node_list, seg_list, 'test2.dgf')"
   ]
  },
  {
   "cell_type": "code",
   "execution_count": 106,
   "metadata": {},
   "outputs": [],
   "source": [
    "### use the dfs order to calculate emergence time\n",
    "def set_LenSur(vertex, prev, nodeID, radius):\n",
    "\n",
    "    length = np.zeros(len(prev))\n",
    "    surf = np.zeros(len(prev))\n",
    "    \n",
    "    for i in range (0,len(prev)):\n",
    "        a = vertex[int(prev[i]),:]\n",
    "        b = vertex[int(nodeID[i]),:]\n",
    "        length[i] = np.linalg.norm(a-b)\n",
    "        surf[i] = 2*radius[i]*math.pi*length[i]\n",
    "\n",
    "    return length, surf\n",
    "\n",
    "vertex = node_list[:,1:]\n",
    "prev, nodeID, branchID, radius = seg_list[:,0], seg_list[:,1], seg_list[:,2], seg_list[:,3]\n",
    "length, surf = set_LenSur(vertex, prev, nodeID, radius)"
   ]
  },
  {
   "cell_type": "code",
   "execution_count": 107,
   "metadata": {},
   "outputs": [
    {
     "data": {
      "text/plain": [
       "array([17.94435844,  2.82842712, 28.24889378, 12.56980509,  6.164414  ,\n",
       "        7.07106781,  8.83176087,  7.34846923,  7.07106781,  8.1240384 ,\n",
       "        7.34846923,  5.19615242,  9.69535971, 12.12435565, 10.72380529,\n",
       "        6.40312424, 11.22497216, 11.74734012,  9.21954446,  6.63324958,\n",
       "       14.03566885,  5.19615242, 17.88854382, 14.69693846,  6.32455532,\n",
       "        6.164414  ,  6.164414  , 10.86278049, 17.20465053, 20.02498439,\n",
       "        7.87400787, 18.02775638, 19.26136028, 10.63014581, 15.26433752,\n",
       "       17.3781472 ,  5.38516481,  5.65685425, 11.70469991,  8.94427191,\n",
       "        7.        , 29.06888371, 21.49418526, 20.46948949, 23.34523506,\n",
       "       50.80354318, 25.92296279,  6.164414  , 14.49137675, 22.71563338,\n",
       "       22.44994432,  3.46410162, 58.30951895, 51.2445119 , 21.04756518,\n",
       "        8.54400375, 14.14213562,  5.38516481, 20.22374842, 12.32882801,\n",
       "       24.51530134, 63.3245608 , 43.97726685,  7.48331477,  8.94427191,\n",
       "       11.40175425, 10.81665383, 13.07669683, 20.83266666, 26.60826939,\n",
       "       14.17744688,  4.47213595,  6.70820393, 12.80624847,  9.11043358,\n",
       "        9.94987437,  9.48683298, 53.29165038, 30.6757233 ,  9.89949494,\n",
       "       16.1245155 , 22.4053565 , 53.18834459, 27.74887385])"
      ]
     },
     "execution_count": 107,
     "metadata": {},
     "output_type": "execute_result"
    }
   ],
   "source": [
    "length"
   ]
  },
  {
   "cell_type": "code",
   "execution_count": 109,
   "metadata": {
    "scrolled": true
   },
   "outputs": [],
   "source": [
    "def set_type(branchID, prev):\n",
    "    \"\"\"\n",
    "    Starting from type 1, the successor of branches with type i will be assigned with type i+1\n",
    "    \"\"\"\n",
    "\n",
    "    maxbran = int(max(branchID))\n",
    "    un_bran = np.unique(branchID)  #unique branches: 0 removed, because the 0 branch only contains the first node\n",
    "#     print('np.unique(branchID):', np.unique(branchID))    \n",
    "    un_bran = np.asarray(un_bran, int)\n",
    "\n",
    "    preseg = np.zeros(maxbran)\n",
    "    prebr = np.zeros(maxbran)\n",
    "    for i in range(1,maxbran+1):\n",
    "        res = next(x for x, val in enumerate(branchID) if val == i) #index of every 1st branch segment\n",
    "        preseg[i-1] = int(prev[res]) #prvious of first br seg\n",
    "    preseg = np.array(preseg,int)\n",
    "    prebr = branchID[preseg]  ### the branch id of the parent branch of each branch\n",
    "    prebr[0] = 0\n",
    "\n",
    " \n",
    "    #find branch types\n",
    "    branch_type = np.zeros(len(prebr))\n",
    "    idx = np.where(prebr == 0)\n",
    "    branch_type[idx[0]] = 1  # the type of main branch is 1\n",
    "\n",
    "    for i in range(1,len(un_bran)):  # the largest possible branch type is the number of unique branches\n",
    "#         print('len(un_bran):', len(un_bran))\n",
    "#         print('branch_type:', branch_type)\n",
    "#         print('un_bran:', un_bran)\n",
    "        bridx = np.where(branch_type == i) #index of branches with type i\n",
    "#         print('bridx:', bridx)\n",
    "        dumpre = un_bran[bridx[0]]  #num of branches that have type i # To me it's more like the branchID of the first branch of type i\n",
    "#         print('prebr:', prebr)\n",
    "#         print('dumpre:', dumpre)\n",
    "#         print()\n",
    "        if len(dumpre)==0:\n",
    "            break  # once there's no succeeding branches, stop the iteration\n",
    "        idxpre = np.in1d(prebr, dumpre)  # the child branches whose parent branches are of type i\n",
    "        branch_type[idxpre] = i+1\n",
    "        \n",
    "    ### idx = np.where(branch_type>maxtyp)  # do this in the end, now the detailed branch orders are needed\n",
    "    ### branch_type[idx[0]] = maxtyp\n",
    "      \n",
    "    #distribute branch types on all segments\n",
    "    Order = np.zeros(len(branchID))\n",
    "    Order[np.where(branchID==0)[0]] = 1  # the first segment of the main branch is of type 1\n",
    "    for i in range(1,maxbran+1):\n",
    "        idx = np.where(un_bran == i)\n",
    "        tt = branch_type[idx[0]]  # get the branch type of this branch id\n",
    "        ix = np.where(branchID==i)\n",
    "        Order[ix[0]] = tt  # Q: only the 1st seg of the branch is changed? --> no, ix[0] is the result array, ix is a tuple\n",
    "        \n",
    "    return Order\n",
    "\n",
    "o = set_type(branchID, prev)\n"
   ]
  },
  {
   "cell_type": "code",
   "execution_count": 111,
   "metadata": {},
   "outputs": [
    {
     "data": {
      "text/plain": [
       "array([1., 1., 1., 1., 1., 1., 1., 1., 1., 1., 1., 1., 1., 1., 1., 1., 1.,\n",
       "       1., 1., 1., 1., 1., 1., 1., 1., 1., 1., 2., 2., 2., 2., 2., 2., 2.,\n",
       "       2., 2., 2., 2., 2., 2., 2., 2., 2., 2., 2., 2., 2., 3., 3., 3., 3.,\n",
       "       3., 3., 3., 3., 2., 2., 2., 2., 2., 2., 2., 2., 2., 2., 2., 2., 2.,\n",
       "       2., 2., 2., 2., 2., 2., 2., 2., 2., 2., 2., 3., 3., 3., 3., 3.])"
      ]
     },
     "execution_count": 111,
     "metadata": {},
     "output_type": "execute_result"
    }
   ],
   "source": [
    "o"
   ]
  },
  {
   "cell_type": "code",
   "execution_count": 96,
   "metadata": {},
   "outputs": [],
   "source": [
    "'''Original code'''\n",
    "\n",
    "# def set_age(Order, branchID, prev, length,  maxage):\n",
    "\n",
    "#     un_typ = np.unique(Order)\n",
    "#     emt = np.zeros(len(Order)) #emergence time \n",
    "\n",
    "#     for i in range(1, len(un_typ)+1): \n",
    "#         idx = np.where(Order==i)   #find all segments with this order \n",
    "#         brtyp = np.unique(branchID[idx[0]]) #find unique branch IDs with this order \n",
    "\n",
    "#         for j in range(0, len(brtyp)): #iterate through all branchIDs with this order \n",
    "#             # todo: discuss if this algorithm makes sense...\n",
    "#             # 1. the first branch of a certain type starts and 0 and ends at max age? why not start at the real age?\n",
    "#             # 2. why the start time of other branches takes the same time as their previous segment?\n",
    "#             #    Then what's the point of calculation according to different branch type?\n",
    "#             idx1_ = np.where(branchID == brtyp[j])\n",
    "#             idx1 = np.asarray(idx1_[0],int)\n",
    "#             if j == 0: \n",
    "#                 emt[idx1[0]] = 0\n",
    "#             else: \n",
    "#                 emt[idx1[0]] =  emt[int(prev[idx1[0]])]\n",
    "\n",
    "#             emt[idx1[-1]] = maxage   #tip is set to maxage\n",
    "#             iniage = emt[idx1[0]]\n",
    "#             RL = sum(length[idx1])  # length of this whole branch\n",
    "#             agediff = (maxage-iniage);\n",
    "#             if (agediff!= 0): \n",
    "#                 elong = RL/(maxage-iniage)\n",
    "#             else:\n",
    "#                 elong = 0.0001\n",
    "\n",
    "#             for k in range(1, len(idx1)-1): \n",
    "#                 emt[idx1[k]] = emt[idx1[k-1]] + length[idx1[k]]/elong\n",
    "     \n",
    "#     return emt\n",
    "\n",
    "# max_plant_age = 13\n",
    "# emt = set_age(o, branchID, prev,length, max_plant_age)  #maximum age of this palnt = 13, shall be given by the user\n"
   ]
  },
  {
   "cell_type": "code",
   "execution_count": 112,
   "metadata": {},
   "outputs": [],
   "source": [
    "'''Modified code'''\n",
    "def set_age(Order, branchID, prev, length, maxage):\n",
    "    '''\n",
    "    Modified algorithm:\n",
    "    Use the orders (types) of branches to calculate the emergence time of each branch \n",
    "      (start time is 0 for the first segment of the main branch, and each branch tip ends at maxage)\n",
    "    The emergence time of the next order branches (the next level of child branches) will be calculated \n",
    "      based on the time tag of the current branches\n",
    "    '''\n",
    "    un_typ = np.unique(Order)\n",
    "    emt = np.zeros(len(Order)) #emergence time \n",
    "\n",
    "    for i in range(1, len(un_typ)+1): \n",
    "        idx = np.where(Order==i)   #find all segments with this order \n",
    "        brtyp = np.unique(branchID[idx[0]]) #find unique branch IDs with this order \n",
    "\n",
    "        for j in range(0, len(brtyp)): #iterate through all branchIDs with this order \n",
    "            idx1_ = np.where(branchID == brtyp[j])\n",
    "            idx1 = np.asarray(idx1_[0],int)\n",
    "            emt[idx1[0]] =  emt[int(prev[idx1[0]])]\n",
    "            emt[idx1[-1]] = maxage   #tip is set to maxage\n",
    "            iniage = emt[idx1[0]]\n",
    "            RL = sum(length[idx1])  # length of this whole branch\n",
    "            agediff = (maxage-iniage);\n",
    "            if (agediff!= 0): \n",
    "                elong = RL/(maxage-iniage)\n",
    "            else:\n",
    "                elong = 0.0001\n",
    "\n",
    "            for k in range(1, len(idx1)-1): \n",
    "                emt[idx1[k]] = emt[idx1[k-1]] + length[idx1[k]]/elong\n",
    "     \n",
    "    return emt\n",
    "\n",
    "max_plant_age = 13\n",
    "emt = set_age(o, branchID, prev,length, max_plant_age)  #maximum age of this palnt = 13, shall be given by the user\n"
   ]
  },
  {
   "cell_type": "code",
   "execution_count": 113,
   "metadata": {},
   "outputs": [
    {
     "data": {
      "text/plain": [
       "array([ 0.        ,  0.13771917,  1.51318827,  2.12522564,  2.4253776 ,\n",
       "        2.76967552,  3.19970348,  3.55750838,  3.90180629,  4.29737449,\n",
       "        4.65517938,  4.90818564,  5.38026316,  5.97061112,  6.49276476,\n",
       "        6.80453979,  7.35109579,  7.92308645,  8.37199601,  8.69497609,\n",
       "        9.37838794,  9.63139421, 10.5024067 , 11.21801648, 11.5259659 ,\n",
       "       11.82611787, 13.        ,  3.55750838,  5.29954717,  7.32715591,\n",
       "        8.12443029,  9.94981181, 13.        ,  2.12522564,  2.78116111,\n",
       "        3.52793071,  3.75934073,  4.00242572,  4.50539729,  4.88974841,\n",
       "        5.19055074,  6.43969188,  7.36333489,  8.24294491,  9.24613079,\n",
       "       11.42924853, 13.        ,  4.88974841,  6.58604507,  9.24503694,\n",
       "       11.87292842, 13.        ,  4.50539729,  7.83844821, 13.        ,\n",
       "        1.51318827,  2.29094066,  2.58709994,  3.69931305,  4.37734186,\n",
       "        5.72557064,  9.2081301 , 11.62667743, 12.03822531, 13.        ,\n",
       "        0.13771917,  0.73376948,  1.45435916,  2.60234057,  4.06858581,\n",
       "        4.84983218,  5.09626866,  5.46592337,  6.17161003,  6.6736393 ,\n",
       "        7.22192584,  7.74469654, 10.68132604, 13.        ,  2.60234057,\n",
       "        3.89832608,  5.69912546,  9.9740647 , 13.        ])"
      ]
     },
     "execution_count": 113,
     "metadata": {},
     "output_type": "execute_result"
    }
   ],
   "source": [
    "emt"
   ]
  },
  {
   "cell_type": "code",
   "execution_count": 95,
   "metadata": {},
   "outputs": [
    {
     "data": {
      "text/plain": [
       "array([ 0.        ,  0.13771917,  1.51318827,  2.12522564,  2.4253776 ,\n",
       "        2.76967552,  3.19970348,  3.55750838,  3.90180629,  4.29737449,\n",
       "        4.65517938,  4.90818564,  5.38026316,  5.97061112,  6.49276476,\n",
       "        6.80453979,  7.35109579,  7.92308645,  8.37199601,  8.69497609,\n",
       "        9.37838794,  9.63139421, 10.5024067 , 11.21801648, 11.5259659 ,\n",
       "       11.82611787, 13.        ,  3.55750838,  5.29954717,  7.32715591,\n",
       "        8.12443029,  9.94981181, 13.        ,  2.12522564,  2.78116111,\n",
       "        3.52793071,  3.75934073,  4.00242572,  4.50539729,  4.88974841,\n",
       "        5.19055074,  6.43969188,  7.36333489,  8.24294491,  9.24613079,\n",
       "       11.42924853, 13.        ,  0.        ,  2.71901017,  6.98113372,\n",
       "       11.19340617, 13.        ,  4.50539729,  7.83844821, 13.        ,\n",
       "        1.51318827,  2.29094066,  2.58709994,  3.69931305,  4.37734186,\n",
       "        5.72557064,  9.2081301 , 11.62667743, 12.03822531, 13.        ,\n",
       "        0.        ,  0.60243235,  1.33073754,  2.49101062,  3.97295526,\n",
       "        4.76256661,  5.01164173,  5.38525441,  6.09849702,  6.60590161,\n",
       "        7.16005877,  7.68842689, 10.65649951, 13.        ,  2.49101062,\n",
       "        3.80087253,  5.62095345,  9.94166537, 13.        ])"
      ]
     },
     "execution_count": 95,
     "metadata": {},
     "output_type": "execute_result"
    }
   ],
   "source": [
    "emt"
   ]
  },
  {
   "cell_type": "code",
   "execution_count": 97,
   "metadata": {},
   "outputs": [
    {
     "data": {
      "text/plain": [
       "array([ 0.        ,  0.13771917,  1.51318827,  2.12522564,  2.4253776 ,\n",
       "        2.76967552,  3.19970348,  3.55750838,  3.90180629,  4.29737449,\n",
       "        4.65517938,  4.90818564,  5.38026316,  5.97061112,  6.49276476,\n",
       "        6.80453979,  7.35109579,  7.92308645,  8.37199601,  8.69497609,\n",
       "        9.37838794,  9.63139421, 10.5024067 , 11.21801648, 11.5259659 ,\n",
       "       11.82611787, 13.        ,  0.        ,  2.39836107,  5.18988206,\n",
       "        6.28753377,  8.80063736, 13.        ,  2.12522564,  2.78116111,\n",
       "        3.52793071,  3.75934073,  4.00242572,  4.50539729,  4.88974841,\n",
       "        5.19055074,  6.43969188,  7.36333489,  8.24294491,  9.24613079,\n",
       "       11.42924853, 13.        ,  0.        ,  2.71901017,  6.98113372,\n",
       "       11.19340617, 13.        ,  4.50539729,  7.83844821, 13.        ,\n",
       "        1.51318827,  2.29094066,  2.58709994,  3.69931305,  4.37734186,\n",
       "        5.72557064,  9.2081301 , 11.62667743, 12.03822531, 13.        ,\n",
       "        0.13771917,  0.73376948,  1.45435916,  2.60234057,  4.06858581,\n",
       "        4.84983218,  5.09626866,  5.46592337,  6.17161003,  6.6736393 ,\n",
       "        7.22192584,  7.74469654, 10.68132604, 13.        ,  2.60234057,\n",
       "        3.89832608,  5.69912546,  9.9740647 , 13.        ])"
      ]
     },
     "execution_count": 97,
     "metadata": {},
     "output_type": "execute_result"
    }
   ],
   "source": [
    "emt"
   ]
  },
  {
   "cell_type": "code",
   "execution_count": 98,
   "metadata": {},
   "outputs": [
    {
     "data": {
      "text/plain": [
       "array([1., 1., 1., 1., 1., 1., 1., 1., 1., 1., 1., 1., 1., 1., 1., 1., 1.,\n",
       "       1., 1., 1., 1., 1., 1., 1., 1., 1., 1., 2., 2., 2., 2., 2., 2., 2.,\n",
       "       2., 2., 2., 2., 2., 2., 2., 2., 2., 2., 2., 2., 2., 3., 3., 3., 3.,\n",
       "       3., 3., 3., 3., 2., 2., 2., 2., 2., 2., 2., 2., 2., 2., 2., 2., 2.,\n",
       "       2., 2., 2., 2., 2., 2., 2., 2., 2., 2., 2., 3., 3., 3., 3., 3.])"
      ]
     },
     "execution_count": 98,
     "metadata": {},
     "output_type": "execute_result"
    }
   ],
   "source": [
    "o"
   ]
  },
  {
   "cell_type": "code",
   "execution_count": 99,
   "metadata": {},
   "outputs": [
    {
     "data": {
      "text/plain": [
       "array([1., 1., 1., 1., 1., 1., 1., 1., 1., 1., 1., 1., 1., 1., 1., 1., 1.,\n",
       "       1., 1., 1., 1., 1., 1., 1., 1., 1., 1., 2., 2., 2., 2., 2., 2., 3.,\n",
       "       3., 3., 3., 3., 3., 3., 3., 3., 3., 3., 3., 3., 3., 4., 4., 4., 4.,\n",
       "       4., 5., 5., 5., 6., 6., 6., 6., 6., 6., 6., 6., 6., 6., 7., 7., 7.,\n",
       "       7., 7., 7., 7., 7., 7., 7., 7., 7., 7., 7., 8., 8., 8., 8., 8.])"
      ]
     },
     "execution_count": 99,
     "metadata": {},
     "output_type": "execute_result"
    }
   ],
   "source": [
    "dfs_order"
   ]
  },
  {
   "cell_type": "code",
   "execution_count": 100,
   "metadata": {},
   "outputs": [
    {
     "data": {
      "text/plain": [
       "array([1., 1., 1., 1., 1., 1., 1., 1., 1., 1., 1., 1., 1., 1., 1., 1., 1.,\n",
       "       1., 1., 1., 1., 1., 1., 1., 1., 1., 1., 5., 5., 5., 5., 5., 5., 3.,\n",
       "       3., 3., 3., 3., 3., 3., 3., 3., 3., 3., 3., 3., 3., 4., 4., 4., 4.,\n",
       "       4., 7., 7., 7., 6., 6., 6., 6., 6., 6., 6., 6., 6., 6., 2., 2., 2.,\n",
       "       2., 2., 2., 2., 2., 2., 2., 2., 2., 2., 2., 8., 8., 8., 8., 8.])"
      ]
     },
     "execution_count": 100,
     "metadata": {},
     "output_type": "execute_result"
    }
   ],
   "source": [
    "branchID"
   ]
  },
  {
   "cell_type": "code",
   "execution_count": 101,
   "metadata": {
    "scrolled": true
   },
   "outputs": [
    {
     "data": {
      "text/plain": [
       "array([[ 0.,  1.,  1.,  9.,  1.],\n",
       "       [ 1.,  2.,  1.,  9.,  1.],\n",
       "       [ 2.,  3.,  1.,  9.,  1.],\n",
       "       [ 3.,  4.,  1.,  8.,  1.],\n",
       "       [ 4.,  5.,  1.,  8.,  1.],\n",
       "       [ 5.,  6.,  1.,  8.,  1.],\n",
       "       [ 6.,  7.,  1.,  9.,  1.],\n",
       "       [ 7.,  8.,  1.,  8.,  1.],\n",
       "       [ 8.,  9.,  1., 10.,  1.],\n",
       "       [ 9., 10.,  1.,  6.,  1.],\n",
       "       [10., 11.,  1.,  9.,  1.],\n",
       "       [11., 12.,  1.,  9.,  1.],\n",
       "       [12., 13.,  1., 10.,  1.],\n",
       "       [13., 14.,  1.,  9.,  1.],\n",
       "       [14., 15.,  1.,  8.,  1.],\n",
       "       [15., 16.,  1.,  9.,  1.],\n",
       "       [16., 17.,  1.,  8.,  1.],\n",
       "       [17., 18.,  1.,  8.,  1.],\n",
       "       [18., 19.,  1.,  8.,  1.],\n",
       "       [19., 20.,  1.,  8.,  1.],\n",
       "       [20., 21.,  1.,  8.,  1.],\n",
       "       [21., 22.,  1., 11.,  1.],\n",
       "       [22., 23.,  1.,  6.,  1.],\n",
       "       [23., 24.,  1.,  9.,  1.],\n",
       "       [24., 25.,  1.,  9.,  1.],\n",
       "       [25., 26.,  1., 10.,  1.],\n",
       "       [26., 27.,  1.,  5.,  1.],\n",
       "       [ 7., 28.,  5.,  8.,  2.],\n",
       "       [28., 29.,  5.,  8.,  2.],\n",
       "       [29., 30.,  5., 10.,  2.],\n",
       "       [30., 31.,  5., 10.,  2.],\n",
       "       [31., 32.,  5.,  7.,  2.],\n",
       "       [32., 33.,  5.,  7.,  2.],\n",
       "       [ 3., 34.,  3.,  7.,  3.],\n",
       "       [34., 35.,  3.,  7.,  3.],\n",
       "       [35., 36.,  3.,  7.,  3.],\n",
       "       [36., 37.,  3.,  9.,  3.],\n",
       "       [37., 38.,  3.,  9.,  3.],\n",
       "       [38., 39.,  3., 12.,  3.],\n",
       "       [39., 40.,  3., 11.,  3.],\n",
       "       [40., 41.,  3., 10.,  3.],\n",
       "       [41., 42.,  3., 10.,  3.],\n",
       "       [42., 43.,  3., 10.,  3.],\n",
       "       [43., 44.,  3., 10.,  3.],\n",
       "       [44., 45.,  3., 10.,  3.],\n",
       "       [45., 46.,  3.,  8.,  3.],\n",
       "       [46., 47.,  3.,  9.,  3.],\n",
       "       [39., 48.,  4., 10.,  4.],\n",
       "       [48., 49.,  4.,  9.,  4.],\n",
       "       [49., 50.,  4., 10.,  4.],\n",
       "       [50., 51.,  4., 10.,  4.],\n",
       "       [51., 52.,  4.,  8.,  4.],\n",
       "       [38., 53.,  7., 10.,  5.],\n",
       "       [53., 54.,  7., 10.,  5.],\n",
       "       [54., 55.,  7., 10.,  5.],\n",
       "       [ 2., 56.,  6.,  8.,  6.],\n",
       "       [56., 57.,  6.,  8.,  6.],\n",
       "       [57., 58.,  6.,  8.,  6.],\n",
       "       [58., 59.,  6.,  8.,  6.],\n",
       "       [59., 60.,  6.,  9.,  6.],\n",
       "       [60., 61.,  6., 10.,  6.],\n",
       "       [61., 62.,  6.,  9.,  6.],\n",
       "       [62., 63.,  6., 10.,  6.],\n",
       "       [63., 64.,  6., 11.,  6.],\n",
       "       [64., 65.,  6.,  5.,  6.],\n",
       "       [ 1., 66.,  2.,  9.,  7.],\n",
       "       [66., 67.,  2.,  8.,  7.],\n",
       "       [67., 68.,  2.,  9.,  7.],\n",
       "       [68., 69.,  2.,  8.,  7.],\n",
       "       [69., 70.,  2.,  9.,  7.],\n",
       "       [70., 71.,  2.,  8.,  7.],\n",
       "       [71., 72.,  2.,  9.,  7.],\n",
       "       [72., 73.,  2.,  9.,  7.],\n",
       "       [73., 74.,  2., 10.,  7.],\n",
       "       [74., 75.,  2., 10.,  7.],\n",
       "       [75., 76.,  2.,  9.,  7.],\n",
       "       [76., 77.,  2.,  9.,  7.],\n",
       "       [77., 78.,  2., 11.,  7.],\n",
       "       [78., 79.,  2.,  5.,  7.],\n",
       "       [68., 80.,  8.,  9.,  8.],\n",
       "       [80., 81.,  8.,  9.,  8.],\n",
       "       [81., 82.,  8., 10.,  8.],\n",
       "       [82., 83.,  8., 10.,  8.],\n",
       "       [83., 84.,  8.,  8.,  8.]])"
      ]
     },
     "execution_count": 101,
     "metadata": {},
     "output_type": "execute_result"
    }
   ],
   "source": [
    "seg_list"
   ]
  },
  {
   "cell_type": "code",
   "execution_count": 114,
   "metadata": {},
   "outputs": [
    {
     "data": {
      "text/plain": [
       "array([1., 1., 1., 1., 1., 1., 1., 1., 1., 1., 1., 1., 1., 1., 1., 1., 1.,\n",
       "       1., 1., 1., 1., 1., 1., 1., 1., 1., 1., 2., 2., 2., 2., 2., 2., 2.,\n",
       "       2., 2., 2., 2., 2., 2., 2., 2., 2., 2., 2., 2., 2., 3., 3., 3., 3.,\n",
       "       3., 3., 3., 3., 2., 2., 2., 2., 2., 2., 2., 2., 2., 2., 2., 2., 2.,\n",
       "       2., 2., 2., 2., 2., 2., 2., 2., 2., 2., 2., 3., 3., 3., 3., 3.])"
      ]
     },
     "execution_count": 114,
     "metadata": {},
     "output_type": "execute_result"
    }
   ],
   "source": [
    "o"
   ]
  },
  {
   "cell_type": "code",
   "execution_count": 115,
   "metadata": {},
   "outputs": [
    {
     "data": {
      "text/plain": [
       "array([ 0.        ,  0.13771917,  1.51318827,  2.12522564,  2.4253776 ,\n",
       "        2.76967552,  3.19970348,  3.55750838,  3.90180629,  4.29737449,\n",
       "        4.65517938,  4.90818564,  5.38026316,  5.97061112,  6.49276476,\n",
       "        6.80453979,  7.35109579,  7.92308645,  8.37199601,  8.69497609,\n",
       "        9.37838794,  9.63139421, 10.5024067 , 11.21801648, 11.5259659 ,\n",
       "       11.82611787, 13.        ,  3.55750838,  5.29954717,  7.32715591,\n",
       "        8.12443029,  9.94981181, 13.        ,  2.12522564,  2.78116111,\n",
       "        3.52793071,  3.75934073,  4.00242572,  4.50539729,  4.88974841,\n",
       "        5.19055074,  6.43969188,  7.36333489,  8.24294491,  9.24613079,\n",
       "       11.42924853, 13.        ,  4.88974841,  6.58604507,  9.24503694,\n",
       "       11.87292842, 13.        ,  4.50539729,  7.83844821, 13.        ,\n",
       "        1.51318827,  2.29094066,  2.58709994,  3.69931305,  4.37734186,\n",
       "        5.72557064,  9.2081301 , 11.62667743, 12.03822531, 13.        ,\n",
       "        0.13771917,  0.73376948,  1.45435916,  2.60234057,  4.06858581,\n",
       "        4.84983218,  5.09626866,  5.46592337,  6.17161003,  6.6736393 ,\n",
       "        7.22192584,  7.74469654, 10.68132604, 13.        ,  2.60234057,\n",
       "        3.89832608,  5.69912546,  9.9740647 , 13.        ])"
      ]
     },
     "execution_count": 115,
     "metadata": {},
     "output_type": "execute_result"
    }
   ],
   "source": [
    "emt"
   ]
  },
  {
   "cell_type": "code",
   "execution_count": 121,
   "metadata": {},
   "outputs": [],
   "source": [
    "# def set_max_type(order, emerge_time, maxtyp):\n",
    "#     \"\"\"\n",
    "#     Set the max order/type\n",
    "#     1. Any order larger than the max order will be converted to the max order\n",
    "#     2. The emergence time of the earliest emerging branch of each order will be set to 0, \n",
    "#        and all the other branches of this order will minus this offset\n",
    "#     \"\"\"\n",
    "#     order[order>maxtyp] = maxtyp\n",
    "#     un_typ = np.unique(order)\n",
    "\n",
    "#     for i in range(1, len(un_typ)+1): \n",
    "#         idx = np.where(order==i)\n",
    "#         order_start_time = emerge_time[idx].min()\n",
    "#         emerge_time[idx] -= order_start_time\n",
    "            \n",
    "#     return order, emerge_time\n",
    "# o2, emt2 = set_max_type(o, emt, 3)\n",
    "\n",
    "def set_max_type(order, maxtyp):\n",
    "    \"\"\"\n",
    "    Set the max order/type\n",
    "    1. Any order larger than the max order will be converted to the max order\n",
    "    2. The emergence time of the earliest emerging branch of each order will be set to 0, \n",
    "       and all the other branches of this order will minus this offset\n",
    "    \"\"\"\n",
    "    order[order>maxtyp] = maxtyp\n",
    "    un_typ = np.unique(order)\n",
    "            \n",
    "    return order\n",
    "o2 = set_max_type(o, 2)\n"
   ]
  },
  {
   "cell_type": "code",
   "execution_count": 118,
   "metadata": {},
   "outputs": [
    {
     "data": {
      "text/plain": [
       "array([ 0.        ,  0.13771917,  1.51318827,  2.12522564,  2.4253776 ,\n",
       "        2.76967552,  3.19970348,  3.55750838,  3.90180629,  4.29737449,\n",
       "        4.65517938,  4.90818564,  5.38026316,  5.97061112,  6.49276476,\n",
       "        6.80453979,  7.35109579,  7.92308645,  8.37199601,  8.69497609,\n",
       "        9.37838794,  9.63139421, 10.5024067 , 11.21801648, 11.5259659 ,\n",
       "       11.82611787, 13.        ,  3.41978921,  5.16182801,  7.18943674,\n",
       "        7.98671113,  9.81209264, 12.86228083,  1.98750647,  2.64344194,\n",
       "        3.39021154,  3.62162156,  3.86470655,  4.36767813,  4.75202925,\n",
       "        5.05283158,  6.30197272,  7.22561572,  8.10522574,  9.10841162,\n",
       "       11.29152936, 12.86228083,  2.28740785,  3.9837045 ,  6.64269638,\n",
       "        9.27058786, 10.39765943,  1.90305673,  5.23610765, 10.39765943,\n",
       "        1.3754691 ,  2.15322149,  2.44938078,  3.56159388,  4.2396227 ,\n",
       "        5.58785147,  9.07041094, 11.48895826, 11.90050614, 12.86228083,\n",
       "        0.        ,  0.59605031,  1.31664   ,  2.4646214 ,  3.93086664,\n",
       "        4.71211302,  4.95854949,  5.3282042 ,  6.03389087,  6.53592013,\n",
       "        7.08420667,  7.60697737, 10.54360688, 12.86228083,  0.        ,\n",
       "        1.29598551,  3.09678489,  7.37172414, 10.39765943])"
      ]
     },
     "execution_count": 118,
     "metadata": {},
     "output_type": "execute_result"
    }
   ],
   "source": [
    "emt2"
   ]
  },
  {
   "cell_type": "code",
   "execution_count": 120,
   "metadata": {},
   "outputs": [
    {
     "data": {
      "text/plain": [
       "array([1., 1., 1., 1., 1., 1., 1., 1., 1., 1., 1., 1., 1., 1., 1., 1., 1.,\n",
       "       1., 1., 1., 1., 1., 1., 1., 1., 1., 1., 2., 2., 2., 2., 2., 2., 2.,\n",
       "       2., 2., 2., 2., 2., 2., 2., 2., 2., 2., 2., 2., 2., 3., 3., 3., 3.,\n",
       "       3., 3., 3., 3., 2., 2., 2., 2., 2., 2., 2., 2., 2., 2., 2., 2., 2.,\n",
       "       2., 2., 2., 2., 2., 2., 2., 2., 2., 2., 2., 3., 3., 3., 3., 3.])"
      ]
     },
     "execution_count": 120,
     "metadata": {},
     "output_type": "execute_result"
    }
   ],
   "source": [
    "o2"
   ]
  },
  {
   "cell_type": "code",
   "execution_count": 122,
   "metadata": {},
   "outputs": [
    {
     "data": {
      "text/plain": [
       "array([1., 1., 1., 1., 1., 1., 1., 1., 1., 1., 1., 1., 1., 1., 1., 1., 1.,\n",
       "       1., 1., 1., 1., 1., 1., 1., 1., 1., 1., 2., 2., 2., 2., 2., 2., 2.,\n",
       "       2., 2., 2., 2., 2., 2., 2., 2., 2., 2., 2., 2., 2., 2., 2., 2., 2.,\n",
       "       2., 2., 2., 2., 2., 2., 2., 2., 2., 2., 2., 2., 2., 2., 2., 2., 2.,\n",
       "       2., 2., 2., 2., 2., 2., 2., 2., 2., 2., 2., 2., 2., 2., 2., 2.])"
      ]
     },
     "execution_count": 122,
     "metadata": {},
     "output_type": "execute_result"
    }
   ],
   "source": [
    "o2"
   ]
  },
  {
   "cell_type": "code",
   "execution_count": null,
   "metadata": {},
   "outputs": [],
   "source": []
  }
 ],
 "metadata": {
  "kernelspec": {
   "display_name": "Python [conda env:rootenv] *",
   "language": "python",
   "name": "conda-env-rootenv-py"
  },
  "language_info": {
   "codemirror_mode": {
    "name": "ipython",
    "version": 3
   },
   "file_extension": ".py",
   "mimetype": "text/x-python",
   "name": "python",
   "nbconvert_exporter": "python",
   "pygments_lexer": "ipython3",
   "version": "3.7.3"
  }
 },
 "nbformat": 4,
 "nbformat_minor": 2
}
